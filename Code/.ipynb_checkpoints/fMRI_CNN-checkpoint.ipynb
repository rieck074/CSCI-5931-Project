{
 "cells": [
  {
   "cell_type": "code",
   "execution_count": 11,
   "id": "5f4a5ca8-5c99-404e-a574-fdbcf94f125c",
   "metadata": {},
   "outputs": [
    {
     "name": "stdout",
     "output_type": "stream",
     "text": [
      "Data dimensions (decrease): (64, 76, 64, 1, 82)\n",
      "Data dimensions (neutral): (64, 76, 64, 1, 82)\n",
      "Data dimensions (negative): (64, 76, 64, 1, 82)\n",
      "Data dimensions (mask): (64, 76, 64)\n"
     ]
    }
   ],
   "source": [
    "import nibabel as nib\n",
    "import os\n",
    "import numpy as np\n",
    "import torch\n",
    "from torch.utils.data import TensorDataset, DataLoader\n",
    "\n",
    "# Replace with your local path to data folder\n",
    "filepath = \"C:/Users/Jared/Downloads/OneDrive_2025-04-08/CSCI 5931 Project Data/\"\n",
    "\n",
    "# Load the 3 fMRI dataset from the .nii files\n",
    "decrease_data = nib.load(os.path.join(filepath, 'Rbucket_ER_decrease.nii'))\n",
    "neutral_data = nib.load(os.path.join(filepath, 'Rbucket_ER_neutral.nii'))\n",
    "negative_data = nib.load(os.path.join(filepath, 'Rbucket_ER_lookneg.nii'))\n",
    "\n",
    "# Load the brain mask\n",
    "mask = nib.load(os.path.join(filepath,'mask2.nii'))\n",
    "mask_img = mask.get_fdata()\n",
    "\n",
    "# Extract the actual image data (3D numpy arrays)\n",
    "decrease_img = decrease_data.get_fdata()\n",
    "neutral_img = neutral_data.get_fdata()\n",
    "negative_img = negative_data.get_fdata()\n",
    "\n",
    "# Get the dimensions\n",
    "## Note: 82 subjects\n",
    "print(\"Data dimensions (decrease):\", decrease_img.shape)\n",
    "print(\"Data dimensions (neutral):\", neutral_img.shape)\n",
    "print(\"Data dimensions (negative):\", negative_img.shape)\n",
    "print(\"Data dimensions (mask):\", mask_img.shape)\n",
    "\n",
    "# Add singleton dimensions to mask to match dimensions\n",
    "mask_data = mask.get_fdata()[..., np.newaxis, np.newaxis]  # shape becomes (64, 76, 64, 1, 1)\n",
    "\n",
    "# Apply mask to images \n",
    "decrease_img = decrease_img * mask_data\n",
    "neutral_img = neutral_img * mask_data\n",
    "negative_img = negative_img * mask_data\n",
    "\n",
    "# Transpose to (subjects, x, y, z, channel)\n",
    "decrease = np.transpose(decrease_img, (4, 0, 1, 2, 3))  # shape: (82, 64, 76, 64, 1)\n",
    "neutral = np.transpose(neutral_img, (4, 0, 1, 2, 3))\n",
    "negative = np.transpose(negative_img, (4, 0, 1, 2, 3))\n",
    "\n",
    "# Stack images\n",
    "X = np.concatenate([decrease, neutral, negative], axis=0)  # shape: (3*82, 64, 76, 64, 1)\n",
    "\n",
    "# Create labels\n",
    "y = np.array([0]*82 + [1]*82 + [2]*82)  # 0=decrease, 1=neutral, 2=negative\n",
    "\n",
    "# Squeeze channel dimension: PyTorch expects (N, C, D, H, W)\n",
    "X = np.transpose(X, (0, 4, 1, 2, 3))  # (N, 1, 64, 76, 64)\n",
    "X_tensor = torch.tensor(X, dtype=torch.float32)\n",
    "y_tensor = torch.tensor(y, dtype=torch.long)\n",
    "\n",
    "dataset = TensorDataset(X_tensor, y_tensor)\n",
    "dataloader = DataLoader(dataset, batch_size=8, shuffle=True)\n"
   ]
  },
  {
   "cell_type": "code",
   "execution_count": 12,
   "id": "91e3431a-1b95-43c2-8bd7-6af80ce05987",
   "metadata": {},
   "outputs": [],
   "source": [
    "# Define CNN Architecture\n",
    "import torch.nn as nn\n",
    "import torch.nn.functional as F\n",
    "\n",
    "class fMRICNN(nn.Module):\n",
    "    def __init__(self):\n",
    "        super(fMRICNN, self).__init__()\n",
    "        self.conv1 = nn.Conv3d(1, 16, kernel_size=3, padding=1)\n",
    "        self.pool1 = nn.MaxPool3d(2)\n",
    "        \n",
    "        self.conv2 = nn.Conv3d(16, 32, kernel_size=3, padding=1)\n",
    "        self.pool2 = nn.MaxPool3d(2)\n",
    "        \n",
    "        self.conv3 = nn.Conv3d(32, 64, kernel_size=3, padding=1)\n",
    "        self.pool3 = nn.MaxPool3d(2)\n",
    "\n",
    "        self.flatten_dim = 64 * 8 * 9 * 8  # Depends on input size: (64,76,64) → 3x pooling\n",
    "\n",
    "        self.fc1 = nn.Linear(self.flatten_dim, 128)\n",
    "        self.dropout = nn.Dropout(0.3)\n",
    "        self.fc2 = nn.Linear(128, 3)  # 3 classes\n",
    "\n",
    "    def forward(self, x):\n",
    "        x = self.pool1(F.relu(self.conv1(x)))  # -> (16, 32, 38, 32)\n",
    "        x = self.pool2(F.relu(self.conv2(x)))  # -> (32, 16, 19, 16)\n",
    "        x = self.pool3(F.relu(self.conv3(x)))  # -> (64, 8, 9, 8)\n",
    "        x = x.view(-1, self.flatten_dim)\n",
    "        x = F.relu(self.fc1(x))\n",
    "        x = self.dropout(x)\n",
    "        x = self.fc2(x)\n",
    "        return x"
   ]
  },
  {
   "cell_type": "code",
   "execution_count": 15,
   "id": "504afd49-6f92-4cdc-a8fa-4f584764bade",
   "metadata": {},
   "outputs": [
    {
     "name": "stdout",
     "output_type": "stream",
     "text": [
      "Epoch  1 | Train Loss: 1.0863 | Val Accuracy: 0.2600\n",
      "Epoch  2 | Train Loss: 1.1081 | Val Accuracy: 0.3400\n",
      "Epoch  3 | Train Loss: 1.0101 | Val Accuracy: 0.3800\n",
      "Epoch  4 | Train Loss: 0.8720 | Val Accuracy: 0.5600\n",
      "Epoch  5 | Train Loss: 0.6636 | Val Accuracy: 0.6000\n",
      "Epoch  6 | Train Loss: 0.5820 | Val Accuracy: 0.5400\n",
      "Epoch  7 | Train Loss: 0.4962 | Val Accuracy: 0.6800\n",
      "Epoch  8 | Train Loss: 0.3295 | Val Accuracy: 0.6000\n",
      "Epoch  9 | Train Loss: 0.2743 | Val Accuracy: 0.7000\n",
      "Epoch 10 | Train Loss: 0.2913 | Val Accuracy: 0.6200\n",
      "Epoch 11 | Train Loss: 0.2272 | Val Accuracy: 0.6600\n",
      "Epoch 12 | Train Loss: 0.2389 | Val Accuracy: 0.6800\n",
      "Epoch 13 | Train Loss: 0.2099 | Val Accuracy: 0.6800\n",
      "Epoch 14 | Train Loss: 0.1343 | Val Accuracy: 0.6600\n",
      "Epoch 15 | Train Loss: 0.0972 | Val Accuracy: 0.6600\n",
      "Epoch 16 | Train Loss: 0.2152 | Val Accuracy: 0.6600\n",
      "Epoch 17 | Train Loss: 0.2205 | Val Accuracy: 0.6600\n",
      "Epoch 18 | Train Loss: 0.1124 | Val Accuracy: 0.6800\n",
      "Epoch 19 | Train Loss: 0.0985 | Val Accuracy: 0.6200\n",
      "Epoch 20 | Train Loss: 0.0883 | Val Accuracy: 0.6800\n"
     ]
    }
   ],
   "source": [
    "# Train the model\n",
    "import torch\n",
    "import torch.nn as nn\n",
    "import torch.nn.functional as F\n",
    "from torch.utils.data import DataLoader, random_split\n",
    "import matplotlib.pyplot as plt\n",
    "\n",
    "# Split dataset \n",
    "train_size = int(0.8 * len(dataset)) # 5-fold\n",
    "val_size = len(dataset) - train_size\n",
    "train_dataset, val_dataset = random_split(dataset, [train_size, val_size])\n",
    "\n",
    "train_loader = DataLoader(train_dataset, batch_size=8, shuffle=True)\n",
    "val_loader = DataLoader(val_dataset, batch_size=8)\n",
    "\n",
    "# Initialize model, loss, optimizer\n",
    "device = torch.device('cuda' if torch.cuda.is_available() else 'cpu')\n",
    "model = fMRICNN().to(device)\n",
    "\n",
    "criterion = nn.CrossEntropyLoss()\n",
    "optimizer = torch.optim.Adam(model.parameters(), lr=1e-3)\n",
    "\n",
    "# For tracking loss and accuracy\n",
    "train_losses = []\n",
    "val_accuracies = []\n",
    "\n",
    "# Training loop\n",
    "for epoch in range(20):\n",
    "    model.train()\n",
    "    running_loss = 0.0\n",
    "\n",
    "    for X_batch, y_batch in train_loader:\n",
    "        X_batch, y_batch = X_batch.to(device), y_batch.to(device)\n",
    "\n",
    "        optimizer.zero_grad()\n",
    "        outputs = model(X_batch)\n",
    "        loss = criterion(outputs, y_batch)\n",
    "        loss.backward()\n",
    "        optimizer.step()\n",
    "\n",
    "        running_loss += loss.item() * X_batch.size(0)\n",
    "\n",
    "    avg_train_loss = running_loss / len(train_loader.dataset)\n",
    "    train_losses.append(avg_train_loss)\n",
    "\n",
    "    # Validation phase\n",
    "    model.eval()\n",
    "    correct = 0\n",
    "    with torch.no_grad():\n",
    "        for X_val, y_val in val_loader:\n",
    "            X_val, y_val = X_val.to(device), y_val.to(device)\n",
    "            outputs = model(X_val)\n",
    "            preds = outputs.argmax(dim=1)\n",
    "            correct += (preds == y_val).sum().item()\n",
    "\n",
    "    val_acc = correct / len(val_loader.dataset)\n",
    "    val_accuracies.append(val_acc)\n",
    "\n",
    "    print(f\"Epoch {epoch+1:2d} | Train Loss: {avg_train_loss:.4f} | Val Accuracy: {val_acc:.4f}\")"
   ]
  },
  {
   "cell_type": "code",
   "execution_count": 17,
   "id": "3793ee3a-1f57-4d5d-8fa3-270a9af63e50",
   "metadata": {},
   "outputs": [
    {
     "data": {
      "image/png": "[encoded data removed]",
      "text/plain": [
       "<Figure size 800x500 with 1 Axes>"
      ]
     },
     "metadata": {},
     "output_type": "display_data"
    }
   ],
   "source": [
    "import matplotlib.pyplot as plt\n",
    "# Training loss plot\n",
    "plt.figure(figsize=(8, 5))\n",
    "plt.plot(range(1, 21), train_losses, marker='o')\n",
    "plt.title('Training Loss vs Epoch')\n",
    "plt.xlabel('Epoch')\n",
    "plt.ylabel('Loss')\n",
    "plt.grid(True)\n",
    "plt.show()"
   ]
  },
  {
   "cell_type": "code",
   "execution_count": 10,
   "id": "24f32410-3046-412d-8f85-6b96a79db648",
   "metadata": {},
   "outputs": [
    {
     "name": "stdout",
     "output_type": "stream",
     "text": [
      "Python 3.13.1\n"
     ]
    }
   ],
   "source": []
  },
  {
   "cell_type": "code",
   "execution_count": null,
   "id": "607000f2-108e-4bea-bd87-1b00dc80f711",
   "metadata": {},
   "outputs": [],
   "source": [
    "    "
   ]
  }
 ],
 "metadata": {
  "kernelspec": {
   "display_name": "Python 3 (ipykernel)",
   "language": "python",
   "name": "python3"
  },
  "language_info": {
   "codemirror_mode": {
    "name": "ipython",
    "version": 3
   },
   "file_extension": ".py",
   "mimetype": "text/x-python",
   "name": "python",
   "nbconvert_exporter": "python",
   "pygments_lexer": "ipython3",
   "version": "3.13.1"
  }
 },
 "nbformat": 4,
 "nbformat_minor": 5
}
