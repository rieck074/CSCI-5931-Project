{
 "cells": [
  {
   "cell_type": "code",
   "execution_count": 6,
   "id": "5f4a5ca8-5c99-404e-a574-fdbcf94f125c",
   "metadata": {},
   "outputs": [
    {
     "name": "stdout",
     "output_type": "stream",
     "text": [
      "Data dimensions (decrease): (64, 76, 64, 1, 82)\n",
      "Data dimensions (neutral): (64, 76, 64, 1, 82)\n",
      "Data dimensions (negative): (64, 76, 64, 1, 82)\n",
      "Data dimensions (mask): (64, 76, 64)\n"
     ]
    },
    {
     "ename": "ValueError",
     "evalue": "operands could not be broadcast together with shapes (64,76,64,1,82) (64,76,64) ",
     "output_type": "error",
     "traceback": [
      "\u001b[1;31m---------------------------------------------------------------------------\u001b[0m",
      "\u001b[1;31mValueError\u001b[0m                                Traceback (most recent call last)",
      "Cell \u001b[1;32mIn[6], line 28\u001b[0m\n\u001b[0;32m     25\u001b[0m \u001b[38;5;28mprint\u001b[39m(\u001b[38;5;124m\"\u001b[39m\u001b[38;5;124mData dimensions (mask):\u001b[39m\u001b[38;5;124m\"\u001b[39m, mask_img\u001b[38;5;241m.\u001b[39mshape)\n\u001b[0;32m     27\u001b[0m \u001b[38;5;66;03m# Apply mask to images\u001b[39;00m\n\u001b[1;32m---> 28\u001b[0m decrease_img \u001b[38;5;241m=\u001b[39m \u001b[43mdecrease_img\u001b[49m\u001b[43m \u001b[49m\u001b[38;5;241;43m*\u001b[39;49m\u001b[43m \u001b[49m\u001b[43mmask\u001b[49m\u001b[38;5;241;43m.\u001b[39;49m\u001b[43mget_fdata\u001b[49m\u001b[43m(\u001b[49m\u001b[43m)\u001b[49m\n\u001b[0;32m     29\u001b[0m neutral_img \u001b[38;5;241m=\u001b[39m neutral_img \u001b[38;5;241m*\u001b[39m mask\u001b[38;5;241m.\u001b[39mget_fdata()\n\u001b[0;32m     30\u001b[0m negative_img \u001b[38;5;241m=\u001b[39m negative_img \u001b[38;5;241m*\u001b[39m mask\u001b[38;5;241m.\u001b[39mget_fdata()\n",
      "\u001b[1;31mValueError\u001b[0m: operands could not be broadcast together with shapes (64,76,64,1,82) (64,76,64) "
     ]
    }
   ],
   "source": [
    "import nibabel as nib\n",
    "import os\n",
    "\n",
    "# Replace with your local path to data folder\n",
    "filepath = \"C:/Users/Jared/Downloads/OneDrive_2025-04-08/CSCI 5931 Project Data/\"\n",
    "\n",
    "# Load the 3 fMRI dataset from the .nii files\n",
    "decrease_data = nib.load(os.path.join(filepath, 'Rbucket_ER_decrease.nii'))\n",
    "neutral_data = nib.load(os.path.join(filepath, 'Rbucket_ER_neutral.nii'))\n",
    "negative_data = nib.load(os.path.join(filepath, 'Rbucket_ER_lookneg.nii'))\n",
    "\n",
    "# Load the brain mask\n",
    "mask = nib.load(os.path.join(filepath,'mask2.nii'))\n",
    "mask_img = mask.get_fdata()\n",
    "\n",
    "# Extract the actual image data (3D numpy arrays)\n",
    "decrease_img = decrease_data.get_fdata()\n",
    "neutral_img = neutral_data.get_fdata()\n",
    "negative_img = negative_data.get_fdata()\n",
    "\n",
    "# Get the dimensions\n",
    "## Note: 82 subjects\n",
    "print(\"Data dimensions (decrease):\", decrease_img.shape)\n",
    "print(\"Data dimensions (neutral):\", neutral_img.shape)\n",
    "print(\"Data dimensions (negative):\", negative_img.shape)\n",
    "print(\"Data dimensions (mask):\", mask_img.shape)\n",
    "\n",
    "# Apply mask to images (TODO. We will want to filter out all zero voxels after multiplying the mask*image)\n",
    "decrease_img = decrease_img * mask.get_fdata()\n",
    "neutral_img = neutral_img * mask.get_fdata()\n",
    "negative_img = negative_img * mask.get_fdata()\n",
    "\n",
    "\n"
   ]
  },
  {
   "cell_type": "code",
   "execution_count": null,
   "id": "91e3431a-1b95-43c2-8bd7-6af80ce05987",
   "metadata": {},
   "outputs": [],
   "source": []
  }
 ],
 "metadata": {
  "kernelspec": {
   "display_name": "Python 3 (ipykernel)",
   "language": "python",
   "name": "python3"
  },
  "language_info": {
   "codemirror_mode": {
    "name": "ipython",
    "version": 3
   },
   "file_extension": ".py",
   "mimetype": "text/x-python",
   "name": "python",
   "nbconvert_exporter": "python",
   "pygments_lexer": "ipython3",
   "version": "3.13.1"
  }
 },
 "nbformat": 4,
 "nbformat_minor": 5
}
